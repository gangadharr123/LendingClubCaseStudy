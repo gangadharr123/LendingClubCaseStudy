{
 "cells": [
  {
   "cell_type": "markdown",
   "metadata": {},
   "source": [
    "# Problem Statement\n",
    "\n",
    "Company is not able to identify the applicants profile properly before loan approval and hence they are facing both business and financial loss."
   ]
  },
  {
   "cell_type": "markdown",
   "metadata": {},
   "source": [
    "# Objective\n",
    "\n",
    "The aim is to identify patterns which indicate if a person is likely to default, which may be used for taking actions such as denying the loan, reducing the amount of loan, lending (to risky applicants) at a higher interest rate, etc."
   ]
  },
  {
   "cell_type": "markdown",
   "metadata": {},
   "source": [
    "# Data Sourcing\n",
    "\n",
    "Campany already given the dataset contains the information about past loan applicants and whether they ‘defaulted’ or not.\n",
    "\n",
    "For this case study we need to focus only on provided dataset given by company."
   ]
  },
  {
   "cell_type": "code",
   "execution_count": 317,
   "metadata": {},
   "outputs": [],
   "source": [
    "# Importing usefull libraries to perform analysis\n",
    "\n",
    "import pandas as pd\n",
    "import numpy as np\n",
    "import matplotlib.pyplot as plt\n",
    "import seaborn as sns\n",
    "import warnings"
   ]
  },
  {
   "cell_type": "code",
   "execution_count": 318,
   "metadata": {},
   "outputs": [],
   "source": [
    "# Read and store the dataset\n",
    "# loan_ds : loan dataset\n",
    "loan_ds = pd.read_csv('loan.csv', header=0, low_memory=False)"
   ]
  },
  {
   "cell_type": "code",
   "execution_count": 319,
   "metadata": {},
   "outputs": [
    {
     "data": {
      "text/plain": [
       "(39717, 111)"
      ]
     },
     "execution_count": 319,
     "metadata": {},
     "output_type": "execute_result"
    }
   ],
   "source": [
    "# Shape of loan dataset\n",
    "loan_ds.shape"
   ]
  },
  {
   "cell_type": "code",
   "execution_count": 320,
   "metadata": {},
   "outputs": [],
   "source": [
    "# setting to display all rows & columns\n",
    "pd.set_option('display.max_rows', None)\n",
    "pd.set_option('display.max_columns', None)"
   ]
  },
  {
   "cell_type": "markdown",
   "metadata": {},
   "source": [
    "# Data Cleaning\n",
    "\n",
    "Lets clean the data before doing the analysis"
   ]
  },
  {
   "cell_type": "markdown",
   "metadata": {},
   "source": [
    "## Fixing Rows and Columns"
   ]
  },
  {
   "cell_type": "markdown",
   "metadata": {},
   "source": [
    "Checking null values"
   ]
  },
  {
   "cell_type": "code",
   "execution_count": 330,
   "metadata": {},
   "outputs": [
    {
     "data": {
      "text/plain": [
       "verification_status_joint         39717\n",
       "annual_inc_joint                  39717\n",
       "mo_sin_old_rev_tl_op              39717\n",
       "mo_sin_old_il_acct                39717\n",
       "bc_util                           39717\n",
       "bc_open_to_buy                    39717\n",
       "avg_cur_bal                       39717\n",
       "acc_open_past_24mths              39717\n",
       "inq_last_12m                      39717\n",
       "total_cu_tl                       39717\n",
       "inq_fi                            39717\n",
       "total_rev_hi_lim                  39717\n",
       "all_util                          39717\n",
       "max_bal_bc                        39717\n",
       "open_rv_24m                       39717\n",
       "open_rv_12m                       39717\n",
       "il_util                           39717\n",
       "total_bal_il                      39717\n",
       "mths_since_rcnt_il                39717\n",
       "open_il_24m                       39717\n",
       "open_il_12m                       39717\n",
       "open_il_6m                        39717\n",
       "open_acc_6m                       39717\n",
       "tot_cur_bal                       39717\n",
       "tot_coll_amt                      39717\n",
       "mo_sin_rcnt_rev_tl_op             39717\n",
       "mo_sin_rcnt_tl                    39717\n",
       "mort_acc                          39717\n",
       "num_rev_tl_bal_gt_0               39717\n",
       "total_bc_limit                    39717\n",
       "total_bal_ex_mort                 39717\n",
       "tot_hi_cred_lim                   39717\n",
       "percent_bc_gt_75                  39717\n",
       "pct_tl_nvr_dlq                    39717\n",
       "num_tl_op_past_12m                39717\n",
       "num_tl_90g_dpd_24m                39717\n",
       "num_tl_30dpd                      39717\n",
       "num_tl_120dpd_2m                  39717\n",
       "num_sats                          39717\n",
       "num_rev_accts                     39717\n",
       "mths_since_recent_bc              39717\n",
       "num_op_rev_tl                     39717\n",
       "num_il_tl                         39717\n",
       "num_bc_tl                         39717\n",
       "num_bc_sats                       39717\n",
       "num_actv_rev_tl                   39717\n",
       "num_actv_bc_tl                    39717\n",
       "num_accts_ever_120_pd             39717\n",
       "mths_since_recent_revol_delinq    39717\n",
       "mths_since_recent_inq             39717\n",
       "mths_since_recent_bc_dlq          39717\n",
       "dti_joint                         39717\n",
       "total_il_high_credit_limit        39717\n",
       "mths_since_last_major_derog       39717\n",
       "next_pymnt_d                      38577\n",
       "mths_since_last_record            36931\n",
       "mths_since_last_delinq            25682\n",
       "desc                              12940\n",
       "emp_title                          2459\n",
       "emp_length                         1075\n",
       "pub_rec_bankruptcies                697\n",
       "last_pymnt_d                         71\n",
       "collections_12_mths_ex_med           56\n",
       "chargeoff_within_12_mths             56\n",
       "revol_util                           50\n",
       "tax_liens                            39\n",
       "title                                11\n",
       "last_credit_pull_d                    2\n",
       "pymnt_plan                            0\n",
       "url                                   0\n",
       "loan_status                           0\n",
       "purpose                               0\n",
       "issue_d                               0\n",
       "verification_status                   0\n",
       "application_type                      0\n",
       "annual_inc                            0\n",
       "home_ownership                        0\n",
       "zip_code                              0\n",
       "grade                                 0\n",
       "installment                           0\n",
       "int_rate                              0\n",
       "term                                  0\n",
       "funded_amnt_inv                       0\n",
       "funded_amnt                           0\n",
       "loan_amnt                             0\n",
       "sub_grade                             0\n",
       "inq_last_6mths                        0\n",
       "addr_state                            0\n",
       "dti                                   0\n",
       "member_id                             0\n",
       "acc_now_delinq                        0\n",
       "last_pymnt_amnt                       0\n",
       "collection_recovery_fee               0\n",
       "recoveries                            0\n",
       "total_rec_late_fee                    0\n",
       "total_rec_int                         0\n",
       "total_rec_prncp                       0\n",
       "total_pymnt_inv                       0\n",
       "total_pymnt                           0\n",
       "out_prncp_inv                         0\n",
       "out_prncp                             0\n",
       "initial_list_status                   0\n",
       "total_acc                             0\n",
       "revol_bal                             0\n",
       "pub_rec                               0\n",
       "open_acc                              0\n",
       "delinq_amnt                           0\n",
       "policy_code                           0\n",
       "earliest_cr_line                      0\n",
       "delinq_2yrs                           0\n",
       "id                                    0\n",
       "dtype: int64"
      ]
     },
     "execution_count": 330,
     "metadata": {},
     "output_type": "execute_result"
    }
   ],
   "source": [
    "loan_ds.isnull().sum().sort_values(ascending=False)"
   ]
  },
  {
   "cell_type": "markdown",
   "metadata": {},
   "source": [
    "By looking at the above insight:\n",
    "1. From column **verification_status_joint** to **mths_since_last_major_derog** : Number of null is same as number of rows in data set. i.e. These columns having only null values. We can get rid of these columns\n",
    "2. Column **mths_since_last_record** and **mths_since_last_delinq** : Very large number of null\n",
    "3. Column **desc** is containing plan text. We can get rid of this as well. we can check the different values by loan_ds.desc.value_counts()."
   ]
  },
  {
   "cell_type": "markdown",
   "metadata": {},
   "source": [
    "Get the total null value for desc column from above insight"
   ]
  },
  {
   "cell_type": "code",
   "execution_count": 334,
   "metadata": {},
   "outputs": [],
   "source": [
    "total_null_desc = 12940\n",
    "loan_ds_1 = loan_ds.loc[:, loan_ds.isnull().sum() < total_null_desc]"
   ]
  },
  {
   "cell_type": "markdown",
   "metadata": {},
   "source": [
    "By looking at the head and tail seems like many columns contains lot of zeroes. Please check loan_ds_1.head(40) and loan_ds_1.tail(40)"
   ]
  },
  {
   "cell_type": "markdown",
   "metadata": {},
   "source": [
    "Checking zero values"
   ]
  },
  {
   "cell_type": "code",
   "execution_count": 335,
   "metadata": {},
   "outputs": [
    {
     "data": {
      "text/plain": [
       "delinq_amnt                   39717\n",
       "acc_now_delinq                39717\n",
       "tax_liens                     39678\n",
       "chargeoff_within_12_mths      39661\n",
       "collections_12_mths_ex_med    39661\n",
       "out_prncp_inv                 38577\n",
       "out_prncp                     38577\n",
       "total_rec_late_fee            37671\n",
       "pub_rec                       37601\n",
       "pub_rec_bankruptcies          37339\n",
       "collection_recovery_fee       35935\n",
       "recoveries                    35499\n",
       "delinq_2yrs                   35405\n",
       "inq_last_6mths                19300\n",
       "revol_bal                       994\n",
       "dti                             183\n",
       "total_pymnt_inv                 165\n",
       "funded_amnt_inv                 129\n",
       "total_rec_prncp                  74\n",
       "last_pymnt_amnt                  74\n",
       "total_rec_int                    71\n",
       "total_pymnt                      16\n",
       "last_pymnt_d                      0\n",
       "sub_grade                         0\n",
       "grade                             0\n",
       "installment                       0\n",
       "verification_status               0\n",
       "int_rate                          0\n",
       "policy_code                       0\n",
       "application_type                  0\n",
       "term                              0\n",
       "funded_amnt                       0\n",
       "loan_amnt                         0\n",
       "last_credit_pull_d                0\n",
       "emp_length                        0\n",
       "emp_title                         0\n",
       "issue_d                           0\n",
       "loan_status                       0\n",
       "pymnt_plan                        0\n",
       "url                               0\n",
       "purpose                           0\n",
       "title                             0\n",
       "zip_code                          0\n",
       "addr_state                        0\n",
       "annual_inc                        0\n",
       "earliest_cr_line                  0\n",
       "member_id                         0\n",
       "open_acc                          0\n",
       "home_ownership                    0\n",
       "revol_util                        0\n",
       "total_acc                         0\n",
       "initial_list_status               0\n",
       "id                                0\n",
       "dtype: int64"
      ]
     },
     "execution_count": 335,
     "metadata": {},
     "output_type": "execute_result"
    }
   ],
   "source": [
    "loan_ds_1.isin([0]).sum().sort_values(ascending=False)"
   ]
  },
  {
   "cell_type": "markdown",
   "metadata": {},
   "source": [
    "By looking at the above insight:\n",
    "1. From column **delinq_amnt** to **delinq_2yrs** : Number of zero is very closer to or almost same as number of rows in data set. i.e. These columns having mostly zero values. We can get rid of these columns\n",
    "2. Column **inq_last_6mths** (Inquiry in last six months) : this columns is not looking useful to analysis we perform. We can get rid of this coulmn as well."
   ]
  },
  {
   "cell_type": "markdown",
   "metadata": {},
   "source": [
    "Get the total zero value for inq_last_6mths column from above insight"
   ]
  },
  {
   "cell_type": "code",
   "execution_count": 336,
   "metadata": {},
   "outputs": [],
   "source": [
    "total_zero_inq_last_6mths = 19300\n",
    "loan_ds_2 = loan_ds_1.loc[:, loan_ds_1.isin([0]).sum() < total_zero_inq_last_6mths]"
   ]
  },
  {
   "cell_type": "markdown",
   "metadata": {},
   "source": [
    "loan id should be unique"
   ]
  },
  {
   "cell_type": "code",
   "execution_count": 337,
   "metadata": {},
   "outputs": [
    {
     "data": {
      "text/plain": [
       "True"
      ]
     },
     "execution_count": 337,
     "metadata": {},
     "output_type": "execute_result"
    }
   ],
   "source": [
    "loan_ds_2.id.nunique() == loan_ds_2.shape[0]"
   ]
  },
  {
   "cell_type": "markdown",
   "metadata": {},
   "source": [
    "Borrower member id should be unique"
   ]
  },
  {
   "cell_type": "code",
   "execution_count": 338,
   "metadata": {},
   "outputs": [
    {
     "data": {
      "text/plain": [
       "True"
      ]
     },
     "execution_count": 338,
     "metadata": {},
     "output_type": "execute_result"
    }
   ],
   "source": [
    "loan_ds_2.member_id.nunique() == loan_ds_2.shape[0]"
   ]
  },
  {
   "cell_type": "markdown",
   "metadata": {},
   "source": [
    "Get rid of percentage sign and convert to float for int_rate columns"
   ]
  },
  {
   "cell_type": "code",
   "execution_count": 339,
   "metadata": {},
   "outputs": [
    {
     "name": "stderr",
     "output_type": "stream",
     "text": [
      "/var/folders/7_/8px52ys552g8ncjsx6czydyh0000gn/T/ipykernel_31231/2618902194.py:1: SettingWithCopyWarning: \n",
      "A value is trying to be set on a copy of a slice from a DataFrame.\n",
      "Try using .loc[row_indexer,col_indexer] = value instead\n",
      "\n",
      "See the caveats in the documentation: https://pandas.pydata.org/pandas-docs/stable/user_guide/indexing.html#returning-a-view-versus-a-copy\n",
      "  loan_ds_2['int_rate'] = loan_ds_2.int_rate.apply(lambda x: float(x[0:-1]))\n"
     ]
    }
   ],
   "source": [
    "loan_ds_2['int_rate'] = loan_ds_2.int_rate.apply(lambda x: float(x[0:-1]))"
   ]
  },
  {
   "cell_type": "code",
   "execution_count": 340,
   "metadata": {},
   "outputs": [
    {
     "data": {
      "text/plain": [
       "RENT        18899\n",
       "MORTGAGE    17659\n",
       "OWN          3058\n",
       "OTHER          98\n",
       "NONE            3\n",
       "Name: home_ownership, dtype: int64"
      ]
     },
     "execution_count": 340,
     "metadata": {},
     "output_type": "execute_result"
    }
   ],
   "source": [
    "loan_ds_2.home_ownership.value_counts()"
   ]
  },
  {
   "cell_type": "markdown",
   "metadata": {},
   "source": [
    "As per data dictonary possible values for home_ownership are RENT, OWN, MORTGAGE and OTHER. But in data set NONE is also present. Hence moving NONE to OTHER"
   ]
  },
  {
   "cell_type": "code",
   "execution_count": 341,
   "metadata": {},
   "outputs": [
    {
     "name": "stderr",
     "output_type": "stream",
     "text": [
      "/var/folders/7_/8px52ys552g8ncjsx6czydyh0000gn/T/ipykernel_31231/980230692.py:1: SettingWithCopyWarning: \n",
      "A value is trying to be set on a copy of a slice from a DataFrame.\n",
      "Try using .loc[row_indexer,col_indexer] = value instead\n",
      "\n",
      "See the caveats in the documentation: https://pandas.pydata.org/pandas-docs/stable/user_guide/indexing.html#returning-a-view-versus-a-copy\n",
      "  loan_ds_2.home_ownership = loan_ds_2.home_ownership.apply(lambda x: 'OTHER' if x == 'NONE' else x)\n"
     ]
    }
   ],
   "source": [
    "loan_ds_2.home_ownership = loan_ds_2.home_ownership.apply(lambda x: 'OTHER' if x == 'NONE' else x)"
   ]
  },
  {
   "cell_type": "markdown",
   "metadata": {},
   "source": [
    "Get rid of percentage sign and convert to float for revol_util columns"
   ]
  },
  {
   "cell_type": "code",
   "execution_count": 342,
   "metadata": {},
   "outputs": [
    {
     "name": "stderr",
     "output_type": "stream",
     "text": [
      "/var/folders/7_/8px52ys552g8ncjsx6czydyh0000gn/T/ipykernel_31231/3734154491.py:1: SettingWithCopyWarning: \n",
      "A value is trying to be set on a copy of a slice from a DataFrame.\n",
      "Try using .loc[row_indexer,col_indexer] = value instead\n",
      "\n",
      "See the caveats in the documentation: https://pandas.pydata.org/pandas-docs/stable/user_guide/indexing.html#returning-a-view-versus-a-copy\n",
      "  loan_ds_2['revol_util'] = loan_ds_2.revol_util.apply(lambda x: float(str(x).rstrip('%')))\n"
     ]
    }
   ],
   "source": [
    "loan_ds_2['revol_util'] = loan_ds_2.revol_util.apply(lambda x: float(str(x).rstrip('%')))"
   ]
  },
  {
   "cell_type": "code",
   "execution_count": 343,
   "metadata": {},
   "outputs": [
    {
     "data": {
      "text/html": [
       "<div>\n",
       "<style scoped>\n",
       "    .dataframe tbody tr th:only-of-type {\n",
       "        vertical-align: middle;\n",
       "    }\n",
       "\n",
       "    .dataframe tbody tr th {\n",
       "        vertical-align: top;\n",
       "    }\n",
       "\n",
       "    .dataframe thead th {\n",
       "        text-align: right;\n",
       "    }\n",
       "</style>\n",
       "<table border=\"1\" class=\"dataframe\">\n",
       "  <thead>\n",
       "    <tr style=\"text-align: right;\">\n",
       "      <th></th>\n",
       "      <th>id</th>\n",
       "      <th>member_id</th>\n",
       "      <th>loan_amnt</th>\n",
       "      <th>funded_amnt</th>\n",
       "      <th>funded_amnt_inv</th>\n",
       "      <th>term</th>\n",
       "      <th>int_rate</th>\n",
       "      <th>installment</th>\n",
       "      <th>grade</th>\n",
       "      <th>sub_grade</th>\n",
       "      <th>emp_title</th>\n",
       "      <th>emp_length</th>\n",
       "      <th>home_ownership</th>\n",
       "      <th>annual_inc</th>\n",
       "      <th>verification_status</th>\n",
       "      <th>issue_d</th>\n",
       "      <th>loan_status</th>\n",
       "      <th>pymnt_plan</th>\n",
       "      <th>url</th>\n",
       "      <th>purpose</th>\n",
       "      <th>title</th>\n",
       "      <th>zip_code</th>\n",
       "      <th>addr_state</th>\n",
       "      <th>dti</th>\n",
       "      <th>earliest_cr_line</th>\n",
       "      <th>open_acc</th>\n",
       "      <th>revol_bal</th>\n",
       "      <th>revol_util</th>\n",
       "      <th>total_acc</th>\n",
       "      <th>initial_list_status</th>\n",
       "      <th>total_pymnt</th>\n",
       "      <th>total_pymnt_inv</th>\n",
       "      <th>total_rec_prncp</th>\n",
       "      <th>total_rec_int</th>\n",
       "      <th>last_pymnt_d</th>\n",
       "      <th>last_pymnt_amnt</th>\n",
       "      <th>last_credit_pull_d</th>\n",
       "      <th>policy_code</th>\n",
       "      <th>application_type</th>\n",
       "    </tr>\n",
       "  </thead>\n",
       "  <tbody>\n",
       "    <tr>\n",
       "      <th>0</th>\n",
       "      <td>1077501</td>\n",
       "      <td>1296599</td>\n",
       "      <td>5000</td>\n",
       "      <td>5000</td>\n",
       "      <td>4975.0</td>\n",
       "      <td>36 months</td>\n",
       "      <td>10.65</td>\n",
       "      <td>162.87</td>\n",
       "      <td>B</td>\n",
       "      <td>B2</td>\n",
       "      <td>NaN</td>\n",
       "      <td>10+ years</td>\n",
       "      <td>RENT</td>\n",
       "      <td>24000.0</td>\n",
       "      <td>Verified</td>\n",
       "      <td>Dec-11</td>\n",
       "      <td>Fully Paid</td>\n",
       "      <td>n</td>\n",
       "      <td>https://lendingclub.com/browse/loanDetail.acti...</td>\n",
       "      <td>credit_card</td>\n",
       "      <td>Computer</td>\n",
       "      <td>860xx</td>\n",
       "      <td>AZ</td>\n",
       "      <td>27.65</td>\n",
       "      <td>Jan-85</td>\n",
       "      <td>3</td>\n",
       "      <td>13648</td>\n",
       "      <td>83.7</td>\n",
       "      <td>9</td>\n",
       "      <td>f</td>\n",
       "      <td>5863.155187</td>\n",
       "      <td>5833.84</td>\n",
       "      <td>5000.00</td>\n",
       "      <td>863.16</td>\n",
       "      <td>Jan-15</td>\n",
       "      <td>171.62</td>\n",
       "      <td>May-16</td>\n",
       "      <td>1</td>\n",
       "      <td>INDIVIDUAL</td>\n",
       "    </tr>\n",
       "    <tr>\n",
       "      <th>1</th>\n",
       "      <td>1077430</td>\n",
       "      <td>1314167</td>\n",
       "      <td>2500</td>\n",
       "      <td>2500</td>\n",
       "      <td>2500.0</td>\n",
       "      <td>60 months</td>\n",
       "      <td>15.27</td>\n",
       "      <td>59.83</td>\n",
       "      <td>C</td>\n",
       "      <td>C4</td>\n",
       "      <td>Ryder</td>\n",
       "      <td>&lt; 1 year</td>\n",
       "      <td>RENT</td>\n",
       "      <td>30000.0</td>\n",
       "      <td>Source Verified</td>\n",
       "      <td>Dec-11</td>\n",
       "      <td>Charged Off</td>\n",
       "      <td>n</td>\n",
       "      <td>https://lendingclub.com/browse/loanDetail.acti...</td>\n",
       "      <td>car</td>\n",
       "      <td>bike</td>\n",
       "      <td>309xx</td>\n",
       "      <td>GA</td>\n",
       "      <td>1.00</td>\n",
       "      <td>Apr-99</td>\n",
       "      <td>3</td>\n",
       "      <td>1687</td>\n",
       "      <td>9.4</td>\n",
       "      <td>4</td>\n",
       "      <td>f</td>\n",
       "      <td>1008.710000</td>\n",
       "      <td>1008.71</td>\n",
       "      <td>456.46</td>\n",
       "      <td>435.17</td>\n",
       "      <td>Apr-13</td>\n",
       "      <td>119.66</td>\n",
       "      <td>Sep-13</td>\n",
       "      <td>1</td>\n",
       "      <td>INDIVIDUAL</td>\n",
       "    </tr>\n",
       "    <tr>\n",
       "      <th>2</th>\n",
       "      <td>1077175</td>\n",
       "      <td>1313524</td>\n",
       "      <td>2400</td>\n",
       "      <td>2400</td>\n",
       "      <td>2400.0</td>\n",
       "      <td>36 months</td>\n",
       "      <td>15.96</td>\n",
       "      <td>84.33</td>\n",
       "      <td>C</td>\n",
       "      <td>C5</td>\n",
       "      <td>NaN</td>\n",
       "      <td>10+ years</td>\n",
       "      <td>RENT</td>\n",
       "      <td>12252.0</td>\n",
       "      <td>Not Verified</td>\n",
       "      <td>Dec-11</td>\n",
       "      <td>Fully Paid</td>\n",
       "      <td>n</td>\n",
       "      <td>https://lendingclub.com/browse/loanDetail.acti...</td>\n",
       "      <td>small_business</td>\n",
       "      <td>real estate business</td>\n",
       "      <td>606xx</td>\n",
       "      <td>IL</td>\n",
       "      <td>8.72</td>\n",
       "      <td>Nov-01</td>\n",
       "      <td>2</td>\n",
       "      <td>2956</td>\n",
       "      <td>98.5</td>\n",
       "      <td>10</td>\n",
       "      <td>f</td>\n",
       "      <td>3005.666844</td>\n",
       "      <td>3005.67</td>\n",
       "      <td>2400.00</td>\n",
       "      <td>605.67</td>\n",
       "      <td>Jun-14</td>\n",
       "      <td>649.91</td>\n",
       "      <td>May-16</td>\n",
       "      <td>1</td>\n",
       "      <td>INDIVIDUAL</td>\n",
       "    </tr>\n",
       "    <tr>\n",
       "      <th>3</th>\n",
       "      <td>1076863</td>\n",
       "      <td>1277178</td>\n",
       "      <td>10000</td>\n",
       "      <td>10000</td>\n",
       "      <td>10000.0</td>\n",
       "      <td>36 months</td>\n",
       "      <td>13.49</td>\n",
       "      <td>339.31</td>\n",
       "      <td>C</td>\n",
       "      <td>C1</td>\n",
       "      <td>AIR RESOURCES BOARD</td>\n",
       "      <td>10+ years</td>\n",
       "      <td>RENT</td>\n",
       "      <td>49200.0</td>\n",
       "      <td>Source Verified</td>\n",
       "      <td>Dec-11</td>\n",
       "      <td>Fully Paid</td>\n",
       "      <td>n</td>\n",
       "      <td>https://lendingclub.com/browse/loanDetail.acti...</td>\n",
       "      <td>other</td>\n",
       "      <td>personel</td>\n",
       "      <td>917xx</td>\n",
       "      <td>CA</td>\n",
       "      <td>20.00</td>\n",
       "      <td>Feb-96</td>\n",
       "      <td>10</td>\n",
       "      <td>5598</td>\n",
       "      <td>21.0</td>\n",
       "      <td>37</td>\n",
       "      <td>f</td>\n",
       "      <td>12231.890000</td>\n",
       "      <td>12231.89</td>\n",
       "      <td>10000.00</td>\n",
       "      <td>2214.92</td>\n",
       "      <td>Jan-15</td>\n",
       "      <td>357.48</td>\n",
       "      <td>Apr-16</td>\n",
       "      <td>1</td>\n",
       "      <td>INDIVIDUAL</td>\n",
       "    </tr>\n",
       "    <tr>\n",
       "      <th>4</th>\n",
       "      <td>1075358</td>\n",
       "      <td>1311748</td>\n",
       "      <td>3000</td>\n",
       "      <td>3000</td>\n",
       "      <td>3000.0</td>\n",
       "      <td>60 months</td>\n",
       "      <td>12.69</td>\n",
       "      <td>67.79</td>\n",
       "      <td>B</td>\n",
       "      <td>B5</td>\n",
       "      <td>University Medical Group</td>\n",
       "      <td>1 year</td>\n",
       "      <td>RENT</td>\n",
       "      <td>80000.0</td>\n",
       "      <td>Source Verified</td>\n",
       "      <td>Dec-11</td>\n",
       "      <td>Current</td>\n",
       "      <td>n</td>\n",
       "      <td>https://lendingclub.com/browse/loanDetail.acti...</td>\n",
       "      <td>other</td>\n",
       "      <td>Personal</td>\n",
       "      <td>972xx</td>\n",
       "      <td>OR</td>\n",
       "      <td>17.94</td>\n",
       "      <td>Jan-96</td>\n",
       "      <td>15</td>\n",
       "      <td>27783</td>\n",
       "      <td>53.9</td>\n",
       "      <td>38</td>\n",
       "      <td>f</td>\n",
       "      <td>3513.330000</td>\n",
       "      <td>3513.33</td>\n",
       "      <td>2475.94</td>\n",
       "      <td>1037.39</td>\n",
       "      <td>May-16</td>\n",
       "      <td>67.79</td>\n",
       "      <td>May-16</td>\n",
       "      <td>1</td>\n",
       "      <td>INDIVIDUAL</td>\n",
       "    </tr>\n",
       "  </tbody>\n",
       "</table>\n",
       "</div>"
      ],
      "text/plain": [
       "        id  member_id  loan_amnt  funded_amnt  funded_amnt_inv        term  \\\n",
       "0  1077501    1296599       5000         5000           4975.0   36 months   \n",
       "1  1077430    1314167       2500         2500           2500.0   60 months   \n",
       "2  1077175    1313524       2400         2400           2400.0   36 months   \n",
       "3  1076863    1277178      10000        10000          10000.0   36 months   \n",
       "4  1075358    1311748       3000         3000           3000.0   60 months   \n",
       "\n",
       "   int_rate  installment grade sub_grade                 emp_title emp_length  \\\n",
       "0     10.65       162.87     B        B2                       NaN  10+ years   \n",
       "1     15.27        59.83     C        C4                     Ryder   < 1 year   \n",
       "2     15.96        84.33     C        C5                       NaN  10+ years   \n",
       "3     13.49       339.31     C        C1       AIR RESOURCES BOARD  10+ years   \n",
       "4     12.69        67.79     B        B5  University Medical Group     1 year   \n",
       "\n",
       "  home_ownership  annual_inc verification_status issue_d  loan_status  \\\n",
       "0           RENT     24000.0            Verified  Dec-11   Fully Paid   \n",
       "1           RENT     30000.0     Source Verified  Dec-11  Charged Off   \n",
       "2           RENT     12252.0        Not Verified  Dec-11   Fully Paid   \n",
       "3           RENT     49200.0     Source Verified  Dec-11   Fully Paid   \n",
       "4           RENT     80000.0     Source Verified  Dec-11      Current   \n",
       "\n",
       "  pymnt_plan                                                url  \\\n",
       "0          n  https://lendingclub.com/browse/loanDetail.acti...   \n",
       "1          n  https://lendingclub.com/browse/loanDetail.acti...   \n",
       "2          n  https://lendingclub.com/browse/loanDetail.acti...   \n",
       "3          n  https://lendingclub.com/browse/loanDetail.acti...   \n",
       "4          n  https://lendingclub.com/browse/loanDetail.acti...   \n",
       "\n",
       "          purpose                 title zip_code addr_state    dti  \\\n",
       "0     credit_card              Computer    860xx         AZ  27.65   \n",
       "1             car                  bike    309xx         GA   1.00   \n",
       "2  small_business  real estate business    606xx         IL   8.72   \n",
       "3           other              personel    917xx         CA  20.00   \n",
       "4           other              Personal    972xx         OR  17.94   \n",
       "\n",
       "  earliest_cr_line  open_acc  revol_bal  revol_util  total_acc  \\\n",
       "0           Jan-85         3      13648        83.7          9   \n",
       "1           Apr-99         3       1687         9.4          4   \n",
       "2           Nov-01         2       2956        98.5         10   \n",
       "3           Feb-96        10       5598        21.0         37   \n",
       "4           Jan-96        15      27783        53.9         38   \n",
       "\n",
       "  initial_list_status   total_pymnt  total_pymnt_inv  total_rec_prncp  \\\n",
       "0                   f   5863.155187          5833.84          5000.00   \n",
       "1                   f   1008.710000          1008.71           456.46   \n",
       "2                   f   3005.666844          3005.67          2400.00   \n",
       "3                   f  12231.890000         12231.89         10000.00   \n",
       "4                   f   3513.330000          3513.33          2475.94   \n",
       "\n",
       "   total_rec_int last_pymnt_d  last_pymnt_amnt last_credit_pull_d  \\\n",
       "0         863.16       Jan-15           171.62             May-16   \n",
       "1         435.17       Apr-13           119.66             Sep-13   \n",
       "2         605.67       Jun-14           649.91             May-16   \n",
       "3        2214.92       Jan-15           357.48             Apr-16   \n",
       "4        1037.39       May-16            67.79             May-16   \n",
       "\n",
       "   policy_code application_type  \n",
       "0            1       INDIVIDUAL  \n",
       "1            1       INDIVIDUAL  \n",
       "2            1       INDIVIDUAL  \n",
       "3            1       INDIVIDUAL  \n",
       "4            1       INDIVIDUAL  "
      ]
     },
     "execution_count": 343,
     "metadata": {},
     "output_type": "execute_result"
    }
   ],
   "source": [
    "loan_ds_2.head()"
   ]
  },
  {
   "cell_type": "code",
   "execution_count": null,
   "metadata": {},
   "outputs": [],
   "source": []
  }
 ],
 "metadata": {
  "anaconda-cloud": {},
  "kernelspec": {
   "display_name": "Python 3 (ipykernel)",
   "language": "python",
   "name": "python3"
  },
  "language_info": {
   "codemirror_mode": {
    "name": "ipython",
    "version": 3
   },
   "file_extension": ".py",
   "mimetype": "text/x-python",
   "name": "python",
   "nbconvert_exporter": "python",
   "pygments_lexer": "ipython3",
   "version": "3.9.13"
  }
 },
 "nbformat": 4,
 "nbformat_minor": 1
}
